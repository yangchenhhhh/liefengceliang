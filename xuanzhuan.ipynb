{
 "cells": [
  {
   "cell_type": "code",
   "execution_count": 1,
   "metadata": {
    "collapsed": true
   },
   "outputs": [],
   "source": [
    "from PIL import Image\n",
    "import os\n",
    "import numpy as np\n",
    "import cv2\n",
    "import matplotlib.pyplot as plt\n",
    "import albumentations as albu\n",
    "#import torch\n",
    "import numpy as np\n",
    "from math import *\n",
    "#from torch.utils.data import DataLoader\n",
    "#from torch.utils.data import Dataset as BaseDataset"
   ]
  },
  {
   "cell_type": "code",
   "execution_count": 2,
   "metadata": {
    "collapsed": true
   },
   "outputs": [],
   "source": [
    "#将图片路径写成列表，为后面cv2读入方便\n",
    "images_dir = 'liefeng'\n",
    "ids=sorted(os.listdir(images_dir))\n",
    "images_fps=[os.path.join(images_dir, image_id) for image_id in ids]"
   ]
  },
  {
   "cell_type": "code",
   "execution_count": 3,
   "metadata": {
    "collapsed": true
   },
   "outputs": [],
   "source": [
    "#批量处理，文件夹内20张照片读成np.array存入3维array‘image’，第一维代表第几张照片\n",
    "j=0\n",
    "image = np.zeros(shape=(len(images_fps),320,320))\n",
    "for i in images_fps:\n",
    "    image1 = cv2.imread(i,1)\n",
    "    pil_img = Image.fromarray(cv2.cvtColor(image1,cv2.COLOR_BGR2RGB))#opencv转为pil\n",
    "    #image1 = cv2.cvtColor(image1, cv2.COLOR_BGR2RGB)\n",
    "    #像素值变成0-1\n",
    "    image2=image1[:,:,1]\n",
    "    image2=image2-image2.min()\n",
    "    image2=image2/image2.max()\n",
    "    #照片周围变成空白像素，否则mat算法会报错\n",
    "    image2[0,:]=0\n",
    "    image2[image2.shape[0]-1,:]=0\n",
    "    image2[:,0]=0\n",
    "    image2[:,image2.shape[1]-1]=0\n",
    "    image2=np.reshape(image2,(320,320))\n",
    "    image[j,:,:]=image2\n",
    "    j=j+1"
   ]
  },
  {
   "cell_type": "code",
   "execution_count": 4,
   "metadata": {
    "collapsed": true
   },
   "outputs": [],
   "source": [
    "#从复合图分离\n",
    "'''\n",
    "之前的复合图像\n",
    "skeleton_img=skeleton_img*200#matplot为0-255绘图，0黑，255白。\n",
    "skeleton_img_liefeng=skeleton_img+image*55\n",
    "for n in range (0,19):\n",
    "    #matplotlib.image.imsave(\"liefeng/%04.d.png\"%(n+1),skeleton_img[n,:,:])\n",
    "    cv2.imwrite(\"liefeng/%04.d.png\"%(n+1),skeleton_img_liefeng[n,:,:])\n",
    "'''\n",
    "image_liefeng=np.zeros_like(image)\n",
    "image_gujia=np.zeros_like(image)\n",
    "image_gujia[image > 0.99]=1\n",
    "image_liefeng[image >0.1]=1"
   ]
  },
  {
   "cell_type": "code",
   "execution_count": 5,
   "metadata": {
    "collapsed": true
   },
   "outputs": [],
   "source": [
    "Image_gujia=image_gujia*255#放大到0-255用于保存照片\n",
    "Image_liefeng=image_liefeng*255#放大的到0-255用于保存照片"
   ]
  },
  {
   "cell_type": "code",
   "execution_count": 6,
   "metadata": {
    "collapsed": true
   },
   "outputs": [],
   "source": [
    "def get_gujia_point(image):\n",
    "    \"接受骨架灰度照片(0-1)，返回2维ndarray，记录所有骨架像素点位置\"\n",
    "    gujia_P=np.nonzero(image)\n",
    "    gujia_p=np.array(gujia_P)\n",
    "    return gujia_p\n",
    "gujia_p4=get_gujia_point(image_gujia[3,:,:])"
   ]
  },
  {
   "cell_type": "markdown",
   "metadata": {},
   "source": [
    "### 新增函数 get_angle（）自动识别裂缝局部图裂缝的角度，用于后续把裂缝调整到竖直用"
   ]
  },
  {
   "cell_type": "code",
   "execution_count": 113,
   "metadata": {
    "collapsed": true
   },
   "outputs": [],
   "source": [
    "#计算一张裂缝照片需要的旋转角\n",
    "def get_angle(Gj_for_w):\n",
    "    gj_sum_lie=np.sum(Gj_for_w,axis=0)\n",
    "    gj_sum_hang=np.sum(Gj_for_w,axis=1)\n",
    "    lie=np.where(gj_sum_lie!=0)\n",
    "    hang=np.where(gj_sum_hang!=0)\n",
    "    img_h,img_w=Gj_for_w.shape\n",
    "    point1_x=np.min(lie)\n",
    "    point1_y=img_h-np.where(Gj_for_w[:,point1_x]!=0)[0][0]\n",
    "    point2_x=np.max(lie)\n",
    "    point2_y=img_h-np.where(Gj_for_w[:,point2_x]!=0)[0][0]\n",
    "    if (point2_y-point1_y)==0:\n",
    "        a=90\n",
    "    else:\n",
    "        tan_a=(point2_x-point1_x)/(point2_y-point1_y)\n",
    "        a=atan(tan_a)*180/pi\n",
    "        a=int(a)\n",
    "    return a"
   ]
  },
  {
   "cell_type": "markdown",
   "metadata": {},
   "source": [
    "### 新增函数rotate_bound_black_bg（） 把照片逆时针旋转指定角度，且输入输出都是照片集，可以批量操作。\n",
    "\n",
    "注：输出后的照片尺寸比原尺寸大根号2倍"
   ]
  },
  {
   "cell_type": "code",
   "execution_count": 114,
   "metadata": {
    "collapsed": true
   },
   "outputs": [],
   "source": [
    "#旋转函数\n",
    "def rotate_bound_black_bg(image_batch, angle):\n",
    "    # grab the dimensions of the image and then determine the,image_batch为照片numpy3维数组，第一维代表个数，23代表高和宽\n",
    "    # center\n",
    "    (h, w) = image_batch.shape[1:3]\n",
    "    (cX, cY) = (w // 2, h // 2)\n",
    "    n=image_batch.shape[0]\n",
    "    #旋转后照片会变大，最大倍就是转45度时的1.414倍，math.ceil向上取整\n",
    "    H=ceil(h*1.415)\n",
    "    W=ceil(w*1.415)\n",
    "    rotation_batch=np.zeros([n,H,W])\n",
    "    # grab the rotation matrix (applying the negative of the\n",
    "    # angle to rotate clockwise), then grab the sine and cosine\n",
    "    # (i.e., the rotation components of the matrix)\n",
    "    # -angle位置参数为角度参数负值表示顺时针旋转; 1.0位置参数scale是调整尺寸比例（图像缩放参数），建议0.75\n",
    "    for i in range(n):\n",
    "        M = cv2.getRotationMatrix2D((cX, cY), angle[i], 1.0)\n",
    "        cos = np.abs(M[0, 0])\n",
    "        sin = np.abs(M[0, 1])\n",
    "\n",
    "        # compute the new bounding dimensions of the image\n",
    "        nW = int((h * sin) + (w * cos))\n",
    "        nH = int((h * cos) + (w * sin))\n",
    "\n",
    "        # adjust the rotation matrix to take into account translation\n",
    "        M[0, 2] += (nW / 2) - cX\n",
    "        M[1, 2] += (nH / 2) - cY\n",
    "\n",
    "        # perform the actual rotation and return the image\n",
    "        # borderValue 缺失背景填充色彩，此处为白色，可自定义\n",
    "        rotation=cv2.warpAffine(image_batch[i,:,:], M, (nW, nH),borderValue=(0,0,0))\n",
    "        pad_h=H-rotation.shape[0]\n",
    "        pad_w=W-rotation.shape[1]\n",
    "        rotation=np.pad(rotation,((0,pad_h),(0,pad_w)),'constant')\n",
    "        rotation_batch[i,:,:]=rotation\n",
    "    return rotation_batch\n",
    "    # borderValue 缺省，默认是黑色（0, 0 , 0）\n",
    "    # return cv2.warpAffine(image, M, (nW, nH))\n",
    " "
   ]
  },
  {
   "cell_type": "code",
   "execution_count": 115,
   "metadata": {
    "collapsed": true
   },
   "outputs": [],
   "source": [
    "#返回一张照片的所有骨架像素点位置\n",
    "def get_gujia_point(image):\n",
    "    \"接受骨架灰度照片(0-1)，返回2维ndarray，记录所有骨架像素点位置\"\n",
    "    gujia_P=np.nonzero(image)\n",
    "    gujia_p=np.array(gujia_P)\n",
    "    return gujia_p\n",
    "gujia_p4=get_gujia_point\n",
    "\n",
    "#返回所有框选照片\n",
    "def get_img_for_w(image_liefeng,point,w,h):\n",
    "    \"输入image裂缝照片，point骨架点(2dimension，第一维代表纵坐标，第二位横坐标），w框选半宽，h框选半高，返回所有框选出照片,大小都相同\"\n",
    "    n=point.shape[1]\n",
    "    image_batch=np.zeros((n,2*h+1,2*w+1))\n",
    "    angles=np.zeros(n)\n",
    "    for i in range(0,n-1):\n",
    "        #防止-h，-w后下标越界；上界可以越没关系\n",
    "        if point[0,i]-h>=0 and point[1,i]-w>=0:\n",
    "            img_for_w=image_liefeng[point[0,i]-h:point[0,i]+h,point[1,i]-w:point[1,i]+w]\n",
    "        elif point[0,i]-h>=0 and point[1,i]-w<0:\n",
    "            img_for_w=image_liefeng[point[0,i]-h:point[0,i]+h,0:point[1,i]+w]\n",
    "        elif point[0,i]-h<0 and point[1,i]-w>=0:\n",
    "            img_for_w=image_liefeng[0:point[0,i]+h,point[1,i]-w:point[1,i]+w]\n",
    "        else:\n",
    "            img_for_w=image_liefeng[0:point[0,i]+h,0:point[1,i]+w]\n",
    "        img_h,img_w=img_for_w.shape\n",
    "        pad_h=2*h+1-img_h\n",
    "        pad_w=2*w+1-img_w\n",
    "        img_for_w=np.pad(img_for_w,((0,pad_h),(0,pad_w)),'constant')\n",
    "        image_batch[i,:,:]=img_for_w\n",
    "    return image_batch\n",
    "#给出骨架和裂缝图片，统计点数，计算框选宽度\n",
    "def calculate_width(image_for_w,gujia_for_w):\n",
    "    \"img_for_w框选的裂缝图，gj_for_w框选的骨架图，最后返回计算的平均宽度\"\n",
    "    area=np.count_nonzero(image_for_w)\n",
    "    length=np.count_nonzero(gujia_for_w)\n",
    "    width=area/(length)\n",
    "    return width\n",
    "\n",
    "def get_width(image_liefeng,image_gujia,w,h):\n",
    "    gujia_p=get_gujia_point(image_gujia)\n",
    "    width=get_w(image_liefeng,image_gujia,gujia_p,w,h)\n",
    "    return width\n",
    "#width=get_width(image_liefeng[1,:,:],image_gujia[1,:,:],10,10)\n",
    "#width[400:450]\n",
    "#img_for_w=get_img_for_w(image_liefeng[3,:,:],gujia_p4,w,h) "
   ]
  },
  {
   "cell_type": "markdown",
   "metadata": {},
   "source": [
    "### 定义get_img_and_angle_for_w（）函数\n",
    "输入image裂缝照片，image骨架照片，w框选半宽，h框选半高，返回所有框选出照片和对应需要的旋转角\n",
    "\n",
    "\n",
    "在get_img_for_w()函数上新增返回旋转角度数组"
   ]
  },
  {
   "cell_type": "code",
   "execution_count": 116,
   "metadata": {
    "collapsed": true
   },
   "outputs": [],
   "source": [
    "def get_img_and_angle_for_w(image_liefeng,image_gujia,w,h):\n",
    "    \"输入image裂缝照片，image骨架照片，w框选半宽，h框选半高，返回所有框选出照片和旋转角\"\n",
    "    point=get_gujia_point(image_gujia)\n",
    "    n=point.shape[1]\n",
    "    image_batch=np.zeros((n,2*h+1,2*w+1))\n",
    "    angles=np.zeros(n)\n",
    "    for i in range(0,n-1):\n",
    "        #防止-h，-w后下标越界；上界可以越没关系\n",
    "        if point[0,i]-h>=0 and point[1,i]-w>=0:\n",
    "            img_for_w=image_liefeng[point[0,i]-h:point[0,i]+h,point[1,i]-w:point[1,i]+w]\n",
    "            gj_for_w=image_gujia[point[0,i]-h:point[0,i]+h,point[1,i]-w:point[1,i]+w]\n",
    "        elif point[0,i]-h>=0 and point[1,i]-w<0:\n",
    "            img_for_w=image_liefeng[point[0,i]-h:point[0,i]+h,0:point[1,i]+w]\n",
    "            gj_for_w=image_gujia[point[0,i]-h:point[0,i]+h,0:point[1,i]+w]\n",
    "        elif point[0,i]-h<0 and point[1,i]-w>=0:\n",
    "            img_for_w=image_liefeng[0:point[0,i]+h,point[1,i]-w:point[1,i]+w]\n",
    "            gj_for_w=image_gujia[0:point[0,i]+h,point[1,i]-w:point[1,i]+w]\n",
    "        else:\n",
    "            img_for_w=image_liefeng[0:point[0,i]+h,0:point[1,i]+w]\n",
    "            gj_for_w=image_gujia[0:point[0,i]+h,0:point[1,i]+w]\n",
    "        img_h,img_w=img_for_w.shape\n",
    "        angles[i]=get_angle(gj_for_w)\n",
    "        pad_h=2*h+1-img_h\n",
    "        pad_w=2*w+1-img_w\n",
    "        img_for_w=np.pad(img_for_w,((0,pad_h),(0,pad_w)),'constant')\n",
    "        image_batch[i,:,:]=img_for_w\n",
    "    return image_batch, angles"
   ]
  },
  {
   "cell_type": "markdown",
   "metadata": {},
   "source": [
    "### 用于测试get_img_and_angle_for_w\n",
    "测识结果保存在‘kuangxuan_angle’文件夹中\n",
    "该文件夹自己手动创建在运行目录\n",
    "运行正常"
   ]
  },
  {
   "cell_type": "code",
   "execution_count": 121,
   "metadata": {},
   "outputs": [],
   "source": [
    "image_for_w,angles=get_img_and_angle_for_w(image_liefeng[0,:,:],image_gujia[0,:,:],30,30)\n",
    "Image_for_w=image_for_w*255\n",
    "for n in range(image_for_w.shape[0]) :\n",
    "    #matplotlib.image.imsave(\"liefeng/gujia%04.d.png\"%(n+1),Image_gujia[n,:,:])\n",
    "    cv2.imwrite(\"kuangxuan_angle/%04.d.png\"%(n+1),Image_for_w[n,:,:])"
   ]
  },
  {
   "cell_type": "markdown",
   "metadata": {},
   "source": [
    "### 手动创建rotation文件夹在该运行目录 为后续实验用"
   ]
  },
  {
   "cell_type": "markdown",
   "metadata": {},
   "source": [
    "### 测试旋转函数rotate_bound_black_bg（），结果保存在rotation文件夹中"
   ]
  },
  {
   "cell_type": "code",
   "execution_count": 122,
   "metadata": {
    "collapsed": true
   },
   "outputs": [],
   "source": [
    "#测试用，不需运行\n",
    "image_rotation=rotate_bound_black_bg(image_for_w,angles)\n",
    "Image_rotation=iamge_rotation*255\n",
    "for n in range(iamge_rotation.shape[0]) :\n",
    "    #matplotlib.image.imsave(\"liefeng/gujia%04.d.png\"%(n+1),Image_gujia[n,:,:])\n",
    "    cv2.imwrite(\"rotation/%d/%04.d.png\"%(0,n+1),Iamge_rotation[n,:,:])"
   ]
  },
  {
   "cell_type": "markdown",
   "metadata": {},
   "source": [
    "### 所有裂缝照片（20张）得到竖直的框选，存在rotation/n/文件夹下"
   ]
  },
  {
   "cell_type": "code",
   "execution_count": 124,
   "metadata": {
    "collapsed": true
   },
   "outputs": [],
   "source": [
    "#创建用于存放照片的文件夹\n",
    "pathd=os.getcwd()+'\\\\rotation\\\\'\n",
    "for i in range(image_liefeng.shape[0]): \n",
    "    os.mkdir(pathd+str(i))"
   ]
  },
  {
   "cell_type": "code",
   "execution_count": 123,
   "metadata": {},
   "outputs": [],
   "source": [
    "#所有裂缝照片（20张）得到竖直的框选，存在rotation/n/文件夹下,第i张裂缝的所有框选照片存在文件夹rotation/i中\n",
    "for i in range(image_liefeng.shape[0]):\n",
    "    image_for_w,angles=get_img_and_angle_for_w(image_liefeng[i,:,:],image_gujia[i,:,:],30,30)\n",
    "    image_rotation=rotate_bound_black_bg(image_for_w,angles)\n",
    "    Image_rotation=iamge_rotation*255\n",
    "    for n in range(iamge_rotation.shape[0]) :\n",
    "        #matplotlib.image.imsave(\"liefeng/gujia%04.d.png\"%(n+1),Image_gujia[n,:,:])\n",
    "        cv2.imwrite(\"rotation/%d/%04.d.png\"%(i,n+1),Iamge_rotation[n,:,:])"
   ]
  },
  {
   "cell_type": "code",
   "execution_count": 181,
   "metadata": {
    "collapsed": true
   },
   "outputs": [],
   "source": [
    "#没用，get_img_and_angle_for_w可以代替\n",
    "def get_img_angle(image_liefeng,image_gujia,h,w):\n",
    "    \"输入一张裂缝照片，可以返回所有框选照片和对应的转正的旋转角,fabs别存放再ndarray中\"\n",
    "    gujia_p=get_gujia_point(image_liefeng)\n",
    "    img_for_w,angles=get_img_and_angle_for_w(image_liefeng,image_gujia,gujia_p,h,w)\n",
    "    return img_for_w,angles"
   ]
  },
  {
   "cell_type": "code",
   "execution_count": 34,
   "metadata": {},
   "outputs": [
    {
     "data": {
      "text/plain": [
       "231"
      ]
     },
     "execution_count": 34,
     "metadata": {},
     "output_type": "execute_result"
    }
   ],
   "source": [
    "img_kuangxuan_2.shape[0]"
   ]
  },
  {
   "cell_type": "code",
   "execution_count": 39,
   "metadata": {
    "collapsed": true
   },
   "outputs": [],
   "source": [
    "#成功\n"
   ]
  },
  {
   "cell_type": "code",
   "execution_count": 38,
   "metadata": {},
   "outputs": [],
   "source": [
    "#用于检查是否读入，cv2显式照片,0=黑，1=白\n",
    "cv2.namedWindow(\"Image\",0)\n",
    "cv2.imshow('Image',image_for_w[170,:,:])\n",
    "cv2.waitKey()\n",
    "cv2.destroyAllWindows()"
   ]
  },
  {
   "cell_type": "code",
   "execution_count": 188,
   "metadata": {},
   "outputs": [
    {
     "ename": "TypeError",
     "evalue": "Argument 'angle' can not be treated as a double",
     "output_type": "error",
     "traceback": [
      "\u001b[1;31m---------------------------------------------------------------------------\u001b[0m",
      "\u001b[1;31mTypeError\u001b[0m                                 Traceback (most recent call last)",
      "\u001b[1;32m<ipython-input-188-bf3365de05d9>\u001b[0m in \u001b[0;36m<module>\u001b[1;34m()\u001b[0m\n\u001b[1;32m----> 1\u001b[1;33m \u001b[0mrotate_bound_black_bg\u001b[0m\u001b[1;33m(\u001b[0m\u001b[0mimage_for_w\u001b[0m\u001b[1;33m,\u001b[0m\u001b[0mangles\u001b[0m\u001b[1;33m)\u001b[0m\u001b[1;33m\u001b[0m\u001b[0m\n\u001b[0m",
      "\u001b[1;32m<ipython-input-187-1f3b7ad16ac7>\u001b[0m in \u001b[0;36mrotate_bound_black_bg\u001b[1;34m(image_batch, angle)\u001b[0m\n\u001b[0;32m     14\u001b[0m     \u001b[1;31m# (i.e., the rotation components of the matrix)\u001b[0m\u001b[1;33m\u001b[0m\u001b[1;33m\u001b[0m\u001b[0m\n\u001b[0;32m     15\u001b[0m     \u001b[1;31m# -angle位置参数为角度参数负值表示顺时针旋转; 1.0位置参数scale是调整尺寸比例（图像缩放参数），建议0.75\u001b[0m\u001b[1;33m\u001b[0m\u001b[1;33m\u001b[0m\u001b[0m\n\u001b[1;32m---> 16\u001b[1;33m     \u001b[0mM\u001b[0m \u001b[1;33m=\u001b[0m \u001b[0mcv2\u001b[0m\u001b[1;33m.\u001b[0m\u001b[0mgetRotationMatrix2D\u001b[0m\u001b[1;33m(\u001b[0m\u001b[1;33m(\u001b[0m\u001b[0mcX\u001b[0m\u001b[1;33m,\u001b[0m \u001b[0mcY\u001b[0m\u001b[1;33m)\u001b[0m\u001b[1;33m,\u001b[0m \u001b[0mangle\u001b[0m\u001b[1;33m,\u001b[0m \u001b[1;36m1.0\u001b[0m\u001b[1;33m)\u001b[0m\u001b[1;33m\u001b[0m\u001b[0m\n\u001b[0m\u001b[0;32m     17\u001b[0m     \u001b[0mcos\u001b[0m \u001b[1;33m=\u001b[0m \u001b[0mnp\u001b[0m\u001b[1;33m.\u001b[0m\u001b[0mabs\u001b[0m\u001b[1;33m(\u001b[0m\u001b[0mM\u001b[0m\u001b[1;33m[\u001b[0m\u001b[1;36m0\u001b[0m\u001b[1;33m,\u001b[0m \u001b[1;36m0\u001b[0m\u001b[1;33m]\u001b[0m\u001b[1;33m)\u001b[0m\u001b[1;33m\u001b[0m\u001b[0m\n\u001b[0;32m     18\u001b[0m     \u001b[0msin\u001b[0m \u001b[1;33m=\u001b[0m \u001b[0mnp\u001b[0m\u001b[1;33m.\u001b[0m\u001b[0mabs\u001b[0m\u001b[1;33m(\u001b[0m\u001b[0mM\u001b[0m\u001b[1;33m[\u001b[0m\u001b[1;36m0\u001b[0m\u001b[1;33m,\u001b[0m \u001b[1;36m1\u001b[0m\u001b[1;33m]\u001b[0m\u001b[1;33m)\u001b[0m\u001b[1;33m\u001b[0m\u001b[0m\n",
      "\u001b[1;31mTypeError\u001b[0m: Argument 'angle' can not be treated as a double"
     ]
    }
   ],
   "source": [
    "rotate_bound_black_bg(image_for_w,angles)"
   ]
  },
  {
   "cell_type": "code",
   "execution_count": 85,
   "metadata": {
    "collapsed": true
   },
   "outputs": [],
   "source": [
    "#用于检查是否读入，cv2显式照片,0=黑，1=白\n",
    "cv2.namedWindow(\"Image\",0)\n",
    "cv2.imshow('Image',img_for_w[0,:,:])\n",
    "cv2.waitKey()\n",
    "cv2.destroyAllWindows()"
   ]
  },
  {
   "cell_type": "code",
   "execution_count": 197,
   "metadata": {},
   "outputs": [
    {
     "data": {
      "text/plain": [
       "(3128, 61, 61)"
      ]
     },
     "execution_count": 197,
     "metadata": {},
     "output_type": "execute_result"
    }
   ],
   "source": []
  },
  {
   "cell_type": "code",
   "execution_count": 172,
   "metadata": {},
   "outputs": [
    {
     "data": {
      "text/plain": [
       "-48.012787504183336"
      ]
     },
     "execution_count": 172,
     "metadata": {},
     "output_type": "execute_result"
    }
   ],
   "source": [
    "get_angle(gj_for_w[1,:,:])"
   ]
  },
  {
   "cell_type": "code",
   "execution_count": 206,
   "metadata": {
    "collapsed": true
   },
   "outputs": [],
   "source": [
    "#用于检查是否读入，cv2显式照片,0=黑，1=白\n",
    "cv2.namedWindow(\"Image\",0)\n",
    "cv2.imshow('Image',image_for_w[50,:,:])\n",
    "cv2.waitKey()\n",
    "cv2.destroyAllWindows()"
   ]
  },
  {
   "cell_type": "code",
   "execution_count": 191,
   "metadata": {},
   "outputs": [
    {
     "name": "stdout",
     "output_type": "stream",
     "text": [
      "38.0\n"
     ]
    }
   ],
   "source": [
    "print(angles[1])"
   ]
  }
 ],
 "metadata": {
  "kernelspec": {
   "display_name": "Python [conda env:pytorch2]",
   "language": "python",
   "name": "conda-env-pytorch2-py"
  },
  "language_info": {
   "codemirror_mode": {
    "name": "ipython",
    "version": 3
   },
   "file_extension": ".py",
   "mimetype": "text/x-python",
   "name": "python",
   "nbconvert_exporter": "python",
   "pygments_lexer": "ipython3",
   "version": "3.6.2"
  }
 },
 "nbformat": 4,
 "nbformat_minor": 2
}
