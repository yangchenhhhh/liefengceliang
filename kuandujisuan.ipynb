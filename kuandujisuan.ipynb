{
 "cells": [
  {
   "cell_type": "code",
   "execution_count": 1,
   "metadata": {
    "collapsed": true
   },
   "outputs": [],
   "source": [
    "#import segmentation_models_pytorch as smp\n",
    "import os\n",
    "import numpy as np\n",
    "import cv2\n",
    "import matplotlib.pyplot as plt\n",
    "import albumentations as albu\n",
    "#import torch\n",
    "import numpy as np\n",
    "#from torch.utils.data import DataLoader\n",
    "#from torch.utils.data import Dataset as BaseDataset\n",
    "os.environ['CUDA_VISIBLE_DEVICES'] = '0'"
   ]
  },
  {
   "cell_type": "code",
   "execution_count": 2,
   "metadata": {
    "collapsed": true
   },
   "outputs": [],
   "source": [
    "#将图片路径写成列表，为后面cv2读入方便\n",
    "images_dir = 'liefeng'\n",
    "ids=sorted(os.listdir(images_dir))\n",
    "images_fps=[os.path.join(images_dir, image_id) for image_id in ids]"
   ]
  },
  {
   "cell_type": "code",
   "execution_count": 3,
   "metadata": {
    "collapsed": true
   },
   "outputs": [],
   "source": [
    "#批量处理，文件夹内20张照片读成np.array存入3维array‘image’，第一维代表第几张照片\n",
    "j=0\n",
    "image = np.zeros(shape=(len(images_fps),320,320))\n",
    "for i in images_fps:\n",
    "    image1 = cv2.imread(i,1)\n",
    "    image1 = cv2.cvtColor(image1, cv2.COLOR_BGR2RGB)\n",
    "    #像素值变成0-1\n",
    "    image2=image1[:,:,1]\n",
    "    image2=image2-image2.min()\n",
    "    image2=image2/image2.max()\n",
    "    #照片周围变成空白像素，否则mat算法会报错\n",
    "    image2[0,:]=0\n",
    "    image2[image2.shape[0]-1,:]=0\n",
    "    image2[:,0]=0\n",
    "    image2[:,image2.shape[1]-1]=0\n",
    "    image2=np.reshape(image2,(320,320))\n",
    "    image[j,:,:]=image2\n",
    "    j=j+1"
   ]
  },
  {
   "cell_type": "code",
   "execution_count": 5,
   "metadata": {
    "collapsed": true
   },
   "outputs": [],
   "source": [
    "#用于检查是否读入，cv2显式照片\n",
    "cv2.namedWindow(\"Image\",0)\n",
    "cv2.imshow('Image',image[1,:,:])\n",
    "cv2.waitKey()\n",
    "cv2.destroyAllWindows()"
   ]
  },
  {
   "cell_type": "code",
   "execution_count": 6,
   "metadata": {
    "collapsed": true
   },
   "outputs": [],
   "source": [
    "#从复合图分离\n",
    "'''\n",
    "之前的复合图像\n",
    "skeleton_img=skeleton_img*200#matplot为0-255绘图，0黑，255白。\n",
    "skeleton_img_liefeng=skeleton_img+image*55\n",
    "for n in range (0,19):\n",
    "    #matplotlib.image.imsave(\"liefeng/%04.d.png\"%(n+1),skeleton_img[n,:,:])\n",
    "    cv2.imwrite(\"liefeng/%04.d.png\"%(n+1),skeleton_img_liefeng[n,:,:])\n",
    "'''\n",
    "image_liefeng=np.zeros_like(image)\n",
    "image_gujia=np.zeros_like(image)\n",
    "image_gujia[image > 0.99]=1\n",
    "image_liefeng[image >0.1]=1"
   ]
  },
  {
   "cell_type": "code",
   "execution_count": 7,
   "metadata": {
    "collapsed": true
   },
   "outputs": [],
   "source": [
    "Image_gujia=image_gujia*255#放大到0-255用于保存照片\n",
    "Image_liefeng=image_liefeng*255#放大的到0-255用于保存照片"
   ]
  },
  {
   "cell_type": "code",
   "execution_count": 6,
   "metadata": {
    "collapsed": true
   },
   "outputs": [],
   "source": [
    "#用于检查是否读入，cv2显式照片,0=黑，1=白\n",
    "cv2.namedWindow(\"Image\",0)\n",
    "cv2.imshow('Image',image_liefeng[1,:,:])\n",
    "cv2.waitKey()\n",
    "cv2.destroyAllWindows()"
   ]
  },
  {
   "cell_type": "code",
   "execution_count": 56,
   "metadata": {
    "collapsed": true
   },
   "outputs": [],
   "source": [
    "#opencv保存成照片(0-255，因此需要先放大255倍)，放在liefeng文件夹\n",
    "for n in range (0,19):\n",
    "    #matplotlib.image.imsave(\"liefeng/gujia%04.d.png\"%(n+1),Image_gujia[n,:,:])\n",
    "    cv2.imwrite(\"gujia/%04.d.png\"%(n+1),Image_gujia[n,:,:])\n",
    "    cv2.imwrite(\"liefeng2/%04.d.png\"%(n+1),Image_liefeng[n,:,:])"
   ]
  },
  {
   "cell_type": "code",
   "execution_count": 9,
   "metadata": {
    "collapsed": true
   },
   "outputs": [],
   "source": [
    "def get_gujia_point(image):\n",
    "    \"接受骨架灰度照片(0-1)，返回2维ndarray，记录所有骨架像素点位置\"\n",
    "    gujia_P=np.nonzero(image)\n",
    "    gujia_p=np.array(gujia_P)\n",
    "    return gujia_p\n",
    "gujia_p4=get_gujia_point(image_gujia[1,:,:])"
   ]
  },
  {
   "cell_type": "code",
   "execution_count": 10,
   "metadata": {
    "collapsed": true
   },
   "outputs": [],
   "source": [
    "#返回一张照片的所有骨架像素点位置\n",
    "def get_gujia_point(image):\n",
    "    \"接受骨架灰度照片(0-1)，返回2维ndarray，记录所有骨架像素点位置\"\n",
    "    gujia_P=np.nonzero(image)\n",
    "    gujia_p=np.array(gujia_P)\n",
    "    return gujia_p\n",
    "gujia_p4=get_gujia_point\n",
    "\n",
    "#返回所有框选宽度\n",
    "def get_w(image_liefeng,image_gujia,point,w,h):\n",
    "    \"输入image裂缝照片，point骨架点(2dimension，第一维代表纵坐标，第二位横坐标），w框选半宽，h框选半高，返回所有框选出照片的所有宽度，存放在ndarray'list中'\"\n",
    "    n=point.shape[1]\n",
    "    list=[]\n",
    "    for i in range(0,n-1):\n",
    "        #防止-h，-w后下标越界；上界可以越没关系\n",
    "        if point[0,i]-h>=0 and point[1,i]-w>=0:\n",
    "            img_for_w=image_liefeng[point[0,i]-h:point[0,i]+h,point[1,i]-w:point[1,i]+w]\n",
    "            gj_for_w=image_gujia[point[0,i]-h:point[0,i]+h,point[1,i]-w:point[1,i]+w]\n",
    "        elif point[0,i]-h>=0 and point[1,i]-w<0:\n",
    "            img_for_w=image_liefeng[point[0,i]-h:point[0,i]+h,0:point[1,i]+w]\n",
    "            gj_for_w=image_gujia[point[0,i]-h:point[0,i]+h,0:point[1,i]+w]\n",
    "        elif point[0,i]-h<0 and point[1,i]-w>=0:\n",
    "            img_for_w=image_liefeng[0:point[0,i]+h,point[1,i]-w:point[1,i]+w]\n",
    "            gj_for_w=image_gujia[0:point[0,i]+h,point[1,i]-w:point[1,i]+w]\n",
    "        else:\n",
    "            img_for_w=image_liefeng[0:point[0,i]+h,0:point[1,i]+w]\n",
    "            gj_for_w=image_gujia[0:point[0,i]+h,0:point[1,i]+w]\n",
    "        width=calculate_width(img_for_w,gj_for_w)\n",
    "        list.append(width)\n",
    "    return list\n",
    "#给出骨架和裂缝图片，统计点数，计算框选宽度\n",
    "def calculate_width(image_for_w,gujia_for_w):\n",
    "    \"img_for_w框选的裂缝图，gj_for_w框选的骨架图，最后返回计算的平均宽度\"\n",
    "    area=np.count_nonzero(image_for_w)\n",
    "    length=np.count_nonzero(gujia_for_w)\n",
    "    width=area/(length)\n",
    "    return width\n",
    "\n",
    "def get_width(image_liefeng,image_gujia,w,h):\n",
    "    gujia_p=get_gujia_point(image_gujia)\n",
    "    width=get_w(image_liefeng,image_gujia,gujia_p,w,h)\n",
    "    return width\n",
    "#width=get_width(image_liefeng[1,:,:],image_gujia[1,:,:],10,10)\n",
    "#width[400:450]\n",
    "#img_for_w=get_img_for_w(image_liefeng[3,:,:],gujia_p4,w,h) "
   ]
  },
  {
   "cell_type": "code",
   "execution_count": 11,
   "metadata": {
    "collapsed": true
   },
   "outputs": [],
   "source": [
    "w=10\n",
    "h=10\n",
    "width_all=[]\n",
    "for i in range(19):\n",
    "    width=get_width(image_liefeng[i,:,:],image_gujia[i,:,:],30,30)\n",
    "    width_sort=sorted(width,reverse=True)\n",
    "    width_sort=width_sort[0:20]\n",
    "    width_all.append(width_sort)"
   ]
  },
  {
   "cell_type": "code",
   "execution_count": 18,
   "metadata": {},
   "outputs": [
    {
     "data": {
      "text/plain": [
       "[24.974358974358974,\n",
       " 24.833333333333332,\n",
       " 24.833333333333332,\n",
       " 24.79746835443038,\n",
       " 24.705128205128204,\n",
       " 24.705128205128204,\n",
       " 24.442307692307693,\n",
       " 24.345454545454544,\n",
       " 24.240506329113924,\n",
       " 24.20689655172414,\n",
       " 24.088607594936708,\n",
       " 24.088607594936708,\n",
       " 24.0327868852459,\n",
       " 24.024390243902438,\n",
       " 24.024390243902438,\n",
       " 23.924050632911392,\n",
       " 23.84375,\n",
       " 23.759493670886076,\n",
       " 23.759493670886076,\n",
       " 23.73076923076923]"
      ]
     },
     "execution_count": 18,
     "metadata": {},
     "output_type": "execute_result"
    }
   ],
   "source": []
  },
  {
   "cell_type": "code",
   "execution_count": 43,
   "metadata": {},
   "outputs": [
    {
     "name": "stdout",
     "output_type": "stream",
     "text": [
      "[23.1875, 22.88235294117647, 22.266666666666666, 22.11111111111111, 21.357142857142858, 21.05263157894737, 20.46153846153846, 20.272727272727273, 20.25, 20.23076923076923, 20.214285714285715, 20.2, 20.1875, 20.176470588235293, 20.166666666666668, 20.157894736842106, 20.0, 20.0, 20.0, 20.0] \n",
      "\n",
      " [39.54545454545455, 39.523809523809526, 34.375, 34.31707317073171, 33.743589743589745, 33.38095238095238, 33.333333333333336, 33.333333333333336, 33.208333333333336, 33.125, 33.041666666666664, 32.86842105263158, 32.6530612244898, 32.6530612244898, 32.6530612244898, 32.6530612244898, 32.6530612244898, 32.63265306122449, 32.61224489795919, 32.59183673469388] \n",
      "\n",
      " [43.465753424657535, 43.361111111111114, 43.16216216216216, 43.082191780821915, 43.02777777777778, 42.0958904109589, 41.753246753246756, 41.16216216216216, 40.24, 39.78048780487805, 39.46341463414634, 39.328947368421055, 38.44155844155844, 38.03896103896104, 37.724137931034484, 37.166666666666664, 36.31645569620253, 36.285714285714285, 35.56382978723404, 35.5] \n",
      "\n",
      " [39.58095238095238, 38.862385321100916, 37.391304347826086, 37.243478260869566, 35.93388429752066, 34.976377952755904, 34.88095238095238, 34.53076923076923, 33.85820895522388, 33.231884057971016, 32.51748251748252, 32.41258741258741, 31.965986394557824, 31.450331125827816, 31.24025974025974, 31.162337662337663, 30.955414012738853, 30.68125, 30.47239263803681, 30.411042944785276]\n"
     ]
    }
   ],
   "source": [
    "width_sort=sorted(width,reverse=True)\n",
    "width20_sort=sorted(width20,reverse=True)\n",
    "width30_sort=sorted(width30,reverse=True)\n",
    "width40_sort=sorted(width40,reverse=True)\n",
    "print(width_sort[0:20],'\\n\\n',width20_sort[0:20],'\\n\\n',width30_sort[0:20],'\\n\\n',width40_sort[0:20])"
   ]
  },
  {
   "cell_type": "code",
   "execution_count": 34,
   "metadata": {},
   "outputs": [
    {
     "name": "stdout",
     "output_type": "stream",
     "text": [
      "a\n",
      "b\n"
     ]
    }
   ],
   "source": [
    "#"
   ]
  },
  {
   "cell_type": "code",
   "execution_count": 18,
   "metadata": {},
   "outputs": [
    {
     "ename": "NameError",
     "evalue": "name 'img_for_w' is not defined",
     "output_type": "error",
     "traceback": [
      "\u001b[1;31m---------------------------------------------------------------------------\u001b[0m",
      "\u001b[1;31mNameError\u001b[0m                                 Traceback (most recent call last)",
      "\u001b[1;32m<ipython-input-18-ad28d0e6aa1f>\u001b[0m in \u001b[0;36m<module>\u001b[1;34m()\u001b[0m\n\u001b[0;32m      1\u001b[0m \u001b[0mcv2\u001b[0m\u001b[1;33m.\u001b[0m\u001b[0mnamedWindow\u001b[0m\u001b[1;33m(\u001b[0m\u001b[1;34m\"Image\"\u001b[0m\u001b[1;33m,\u001b[0m\u001b[1;36m0\u001b[0m\u001b[1;33m)\u001b[0m\u001b[1;33m\u001b[0m\u001b[0m\n\u001b[1;32m----> 2\u001b[1;33m \u001b[0mcv2\u001b[0m\u001b[1;33m.\u001b[0m\u001b[0mimshow\u001b[0m\u001b[1;33m(\u001b[0m\u001b[1;34m'Image'\u001b[0m\u001b[1;33m,\u001b[0m\u001b[0mimg_for_w\u001b[0m\u001b[1;33m[\u001b[0m\u001b[1;36m1\u001b[0m\u001b[1;33m]\u001b[0m\u001b[1;33m)\u001b[0m\u001b[1;33m\u001b[0m\u001b[0m\n\u001b[0m\u001b[0;32m      3\u001b[0m \u001b[0mcv2\u001b[0m\u001b[1;33m.\u001b[0m\u001b[0mwaitKey\u001b[0m\u001b[1;33m(\u001b[0m\u001b[1;33m)\u001b[0m\u001b[1;33m\u001b[0m\u001b[0m\n\u001b[0;32m      4\u001b[0m \u001b[0mcv2\u001b[0m\u001b[1;33m.\u001b[0m\u001b[0mdestroyAllWindows\u001b[0m\u001b[1;33m(\u001b[0m\u001b[1;33m)\u001b[0m\u001b[1;33m\u001b[0m\u001b[0m\n\u001b[0;32m      5\u001b[0m \u001b[1;31m#gj_for_w=get_img_for_w(image_gujia,gujia_p,w,h)\u001b[0m\u001b[1;33m\u001b[0m\u001b[1;33m\u001b[0m\u001b[0m\n",
      "\u001b[1;31mNameError\u001b[0m: name 'img_for_w' is not defined"
     ]
    }
   ],
   "source": [
    "cv2.namedWindow(\"Image\",0)\n",
    "cv2.imshow('Image',img_for_w[1])\n",
    "cv2.waitKey()\n",
    "cv2.destroyAllWindows()\n",
    "#gj_for_w=get_img_for_w(image_gujia,gujia_p,w,h)"
   ]
  },
  {
   "cell_type": "code",
   "execution_count": 159,
   "metadata": {
    "collapsed": true
   },
   "outputs": [],
   "source": [
    "cv2.namedWindow(\"Image\",0)\n",
    "cv2.imshow('Image',img_for_w[0])\n",
    "cv2.waitKey()\n",
    "cv2.destroyAllWindows()"
   ]
  },
  {
   "cell_type": "code",
   "execution_count": 162,
   "metadata": {},
   "outputs": [
    {
     "data": {
      "text/plain": [
       "(3,)"
      ]
     },
     "execution_count": 162,
     "metadata": {},
     "output_type": "execute_result"
    }
   ],
   "source": [
    "a=np.array([1,1])\n",
    "b=np.array([[1,1],[1,1]])\n",
    "list=[a,b]\n",
    "list[1]\n",
    "a=np.append(a,1)\n",
    "a.shape"
   ]
  },
  {
   "cell_type": "code",
   "execution_count": 140,
   "metadata": {},
   "outputs": [
    {
     "data": {
      "text/plain": [
       "True"
      ]
     },
     "execution_count": 140,
     "metadata": {},
     "output_type": "execute_result"
    }
   ],
   "source": [
    "img_for_w=img_for_w*255\n",
    "cv2.imwrite(\"kuandu/%04.d.png\"%(1),img_for_w)"
   ]
  },
  {
   "cell_type": "code",
   "execution_count": 141,
   "metadata": {},
   "outputs": [
    {
     "name": "stdout",
     "output_type": "stream",
     "text": [
      "117     28      4.178571428571429\n"
     ]
    }
   ],
   "source": [
    "print(area,'   ',length,'    ',width)"
   ]
  },
  {
   "cell_type": "code",
   "execution_count": null,
   "metadata": {
    "collapsed": true
   },
   "outputs": [],
   "source": [
    "(16,19)\n",
    "(19,23)"
   ]
  }
 ],
 "metadata": {
  "kernelspec": {
   "display_name": "Python [conda env:pytorch2]",
   "language": "python",
   "name": "conda-env-pytorch2-py"
  },
  "language_info": {
   "codemirror_mode": {
    "name": "ipython",
    "version": 3
   },
   "file_extension": ".py",
   "mimetype": "text/x-python",
   "name": "python",
   "nbconvert_exporter": "python",
   "pygments_lexer": "ipython3",
   "version": "3.6.2"
  }
 },
 "nbformat": 4,
 "nbformat_minor": 2
}
