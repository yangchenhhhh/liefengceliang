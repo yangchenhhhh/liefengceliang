{
 "cells": [
  {
   "cell_type": "code",
   "execution_count": 1,
   "metadata": {
    "collapsed": true
   },
   "outputs": [],
   "source": [
    "from PIL import Image"
   ]
  },
  {
   "cell_type": "code",
   "execution_count": 4,
   "metadata": {},
   "outputs": [
    {
     "name": "stdout",
     "output_type": "stream",
     "text": [
      "(934, 499)\n",
      "(635, 424)\n",
      "(865, 454)\n",
      "(728, 489)\n",
      "(846, 518)\n"
     ]
    }
   ],
   "source": [
    "#切割成指定大小，且jpg，png随意换\n",
    "for i in range(1,6):\n",
    "    img = Image.open(\"C:/Users/PC/Desktop/research/lijun/test2/image/\"+str(i)+\".png\")\n",
    "    print(img.size)\n",
    "    cropped = img.crop((0, 0, 320, 320))  # (left, upper, right, lower)\n",
    "    cropped.save(\"C:/Users/PC/Desktop/research/lijun/test2/\"+str(i)+\".png\")"
   ]
  },
  {
   "cell_type": "code",
   "execution_count": null,
   "metadata": {
    "collapsed": true
   },
   "outputs": [],
   "source": [
    "#jpg转为png\n",
    "for i in range(1,30):\n",
    "    img = Image.open(\"C:/Users/PC/Desktop/research/unet-crack/data/membrane/test2/\"+str(i)+\".png\")\n",
    "    print(img.size)\n",
    "    cropped = img.crop((0, 0, 256, 256))  # (left, upper, right, lower)\n",
    "    cropped.save(\"C:/Users/PC/Desktop/research/unet-crack/data/membrane/test3/\"+str(i)+\".png\")"
   ]
  }
 ],
 "metadata": {
  "kernelspec": {
   "display_name": "Python [conda env:pytorch2]",
   "language": "python",
   "name": "conda-env-pytorch2-py"
  },
  "language_info": {
   "codemirror_mode": {
    "name": "ipython",
    "version": 3
   },
   "file_extension": ".py",
   "mimetype": "text/x-python",
   "name": "python",
   "nbconvert_exporter": "python",
   "pygments_lexer": "ipython3",
   "version": "3.6.2"
  }
 },
 "nbformat": 4,
 "nbformat_minor": 4
}
