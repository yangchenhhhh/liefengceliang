{
 "cells": [
  {
   "cell_type": "code",
   "execution_count": 1,
   "metadata": {
    "collapsed": true
   },
   "outputs": [],
   "source": [
    "#import segmentation_models_pytorch as smp\n",
    "import os\n",
    "import numpy as np\n",
    "import cv2\n",
    "import matplotlib.pyplot as plt\n",
    "import albumentations as albu\n",
    "import torch\n",
    "import numpy as np\n",
    "from torch.utils.data import DataLoader\n",
    "from torch.utils.data import Dataset as BaseDataset\n",
    "os.environ['CUDA_VISIBLE_DEVICES'] = '0'"
   ]
  },
  {
   "cell_type": "code",
   "execution_count": 3,
   "metadata": {
    "collapsed": true
   },
   "outputs": [],
   "source": [
    "import numpy as np\n",
    "import matplotlib.pyplot as plt\n",
    "import cv2"
   ]
  },
  {
   "cell_type": "code",
   "execution_count": 4,
   "metadata": {},
   "outputs": [
    {
     "ename": "NameError",
     "evalue": "name 'img' is not defined",
     "output_type": "error",
     "traceback": [
      "\u001b[1;31m---------------------------------------------------------------------------\u001b[0m",
      "\u001b[1;31mNameError\u001b[0m                                 Traceback (most recent call last)",
      "\u001b[1;32m<ipython-input-4-99c581f58647>\u001b[0m in \u001b[0;36m<module>\u001b[1;34m()\u001b[0m\n\u001b[0;32m      1\u001b[0m \u001b[0moutput\u001b[0m \u001b[1;33m=\u001b[0m \u001b[0mnp\u001b[0m\u001b[1;33m.\u001b[0m\u001b[0mzeros\u001b[0m\u001b[1;33m(\u001b[0m\u001b[1;33m[\u001b[0m\u001b[1;36m1\u001b[0m\u001b[1;33m,\u001b[0m\u001b[1;36m320\u001b[0m\u001b[1;33m,\u001b[0m\u001b[1;36m320\u001b[0m\u001b[1;33m,\u001b[0m\u001b[1;36m3\u001b[0m\u001b[1;33m]\u001b[0m\u001b[1;33m,\u001b[0m \u001b[0mdtype\u001b[0m\u001b[1;33m=\u001b[0m\u001b[0mint\u001b[0m\u001b[1;33m)\u001b[0m\u001b[1;33m\u001b[0m\u001b[0m\n\u001b[1;32m----> 2\u001b[1;33m \u001b[0mterm\u001b[0m \u001b[1;33m=\u001b[0m \u001b[0mimg\u001b[0m\u001b[1;33m[\u001b[0m\u001b[0mnp\u001b[0m\u001b[1;33m.\u001b[0m\u001b[0mnewaxis\u001b[0m\u001b[1;33m,\u001b[0m\u001b[1;33m:\u001b[0m\u001b[1;33m,\u001b[0m\u001b[1;33m:\u001b[0m\u001b[1;33m,\u001b[0m\u001b[1;33m:\u001b[0m\u001b[1;33m]\u001b[0m\u001b[1;33m\u001b[0m\u001b[0m\n\u001b[0m\u001b[0;32m      3\u001b[0m \u001b[0moutput\u001b[0m \u001b[1;33m=\u001b[0m \u001b[0mnp\u001b[0m\u001b[1;33m.\u001b[0m\u001b[0mconcatenate\u001b[0m\u001b[1;33m(\u001b[0m\u001b[1;33m(\u001b[0m\u001b[0moutput\u001b[0m\u001b[1;33m,\u001b[0m\u001b[0mterm\u001b[0m\u001b[1;33m)\u001b[0m\u001b[1;33m,\u001b[0m\u001b[0maxis\u001b[0m \u001b[1;33m=\u001b[0m \u001b[1;36m0\u001b[0m\u001b[1;33m)\u001b[0m\u001b[1;33m\u001b[0m\u001b[0m\n\u001b[0;32m      4\u001b[0m \u001b[0mprint\u001b[0m\u001b[1;33m(\u001b[0m\u001b[0moutput\u001b[0m\u001b[1;33m.\u001b[0m\u001b[0mshape\u001b[0m\u001b[1;33m)\u001b[0m\u001b[1;33m\u001b[0m\u001b[0m\n",
      "\u001b[1;31mNameError\u001b[0m: name 'img' is not defined"
     ]
    }
   ],
   "source": [
    "output = np.zeros([1,320,320,3], dtype=int)\n",
    "term = img[np.newaxis,:,:,:]\n",
    "output = np.concatenate((output,term),axis = 0)\n",
    "print(output.shape)"
   ]
  },
  {
   "cell_type": "code",
   "execution_count": 4,
   "metadata": {
    "collapsed": true
   },
   "outputs": [],
   "source": [
    "# Define the dataset\n",
    "class Dataset(BaseDataset):\n",
    "    \"\"\"\n",
    "    Args:\n",
    "        images_dir (str): path to images folder\n",
    "        masks_dir (str): path to segmentation masks folder\n",
    "        class_values (list): values of classes to extract from segmentation mask\n",
    "        augmentation (albumentations.Compose): data transfromation pipeline \n",
    "            (e.g. flip, scale, etc.)\n",
    "        preprocessing (albumentations.Compose): data preprocessing \n",
    "            (e.g. noralization, shape manipulation, etc.)\n",
    "    Note: we don't need mask when testing.\n",
    "    \n",
    "    \"\"\"\n",
    "    \n",
    "    CLASSES = ['crack']\n",
    "    \n",
    "    def __init__(\n",
    "            self, \n",
    "            images_dir, \n",
    "            classes=None, \n",
    "            augmentation=None, \n",
    "            preprocessing=None,\n",
    "    ):\n",
    "        self.ids = sorted(os.listdir(images_dir))\n",
    "        self.images_fps = [os.path.join(images_dir, image_id) for image_id in self.ids]\n",
    "        \n",
    "        # convert str names to class values on masks\n",
    "        self.class_values = [self.CLASSES.index(cls.lower()) for cls in classes]\n",
    "        \n",
    "        self.augmentation = augmentation\n",
    "        self.preprocessing = preprocessing\n",
    "    \n",
    "    def __getitem__(self, i):\n",
    "        \n",
    "        # read data\n",
    "        image = cv2.imread(self.images_fps[i],1)\n",
    "        image = cv2.cvtColor(image, cv2.COLOR_BGR2RGB)\n",
    "        # apply augmentations\n",
    "        if self.augmentation:\n",
    "            sample = self.augmentation(image=image)\n",
    "            image = sample['image']\n",
    "        if self.preprocessing:\n",
    "            sample = self.preprocessing(image=image)\n",
    "            image = sample['image']\n",
    "        image = testdataprocessing(image.transpose(1,2,0))\n",
    "        image = image.transpose(0,3,1,2)\n",
    "        return image\n",
    "        \n",
    "    def __len__(self):\n",
    "        return len(self.ids)"
   ]
  },
  {
   "cell_type": "code",
   "execution_count": 4,
   "metadata": {},
   "outputs": [
    {
     "ename": "NameError",
     "evalue": "name 'Dataset' is not defined",
     "output_type": "error",
     "traceback": [
      "\u001b[1;31m---------------------------------------------------------------------------\u001b[0m",
      "\u001b[1;31mNameError\u001b[0m                                 Traceback (most recent call last)",
      "\u001b[1;32m<ipython-input-4-55e6af79ca56>\u001b[0m in \u001b[0;36m<module>\u001b[1;34m()\u001b[0m\n\u001b[0;32m     25\u001b[0m     \u001b[1;32mreturn\u001b[0m \u001b[0malbu\u001b[0m\u001b[1;33m.\u001b[0m\u001b[0mCompose\u001b[0m\u001b[1;33m(\u001b[0m\u001b[0m_transform\u001b[0m\u001b[1;33m)\u001b[0m\u001b[1;33m\u001b[0m\u001b[0m\n\u001b[0;32m     26\u001b[0m \u001b[1;33m\u001b[0m\u001b[0m\n\u001b[1;32m---> 27\u001b[1;33m test_dataset = Dataset(\n\u001b[0m\u001b[0;32m     28\u001b[0m     \u001b[0mx_test_dir\u001b[0m\u001b[1;33m,\u001b[0m\u001b[1;33m\u001b[0m\u001b[0m\n\u001b[0;32m     29\u001b[0m     \u001b[0maugmentation\u001b[0m\u001b[1;33m=\u001b[0m\u001b[1;32mNone\u001b[0m\u001b[1;33m,\u001b[0m \u001b[1;31m# for test, we just set augmentation to None\u001b[0m\u001b[1;33m\u001b[0m\u001b[0m\n",
      "\u001b[1;31mNameError\u001b[0m: name 'Dataset' is not defined"
     ]
    }
   ],
   "source": [
    "# create test dataset\n",
    "def get_validation_augmentation():\n",
    "    \"\"\"You can put some augmentations on here\"\"\"\n",
    "    test_transform = [\n",
    "     albu.Resize(320,320),\n",
    "    ]\n",
    "    return albu.Compose(test_transform)\n",
    "def to_tensor(x, **kwargs):\n",
    "    return x.transpose(2, 0, 1).astype('float32')\n",
    "def get_preprocessing(preprocessing_fn):\n",
    "    \"\"\"Construct preprocessing transform\n",
    "    \n",
    "    Args:\n",
    "        preprocessing_fn (callbale): data normalization function \n",
    "            (can be specific for each pretrained neural network)\n",
    "    Return:\n",
    "        transform: albumentations.Compose\n",
    "    \n",
    "    \"\"\"\n",
    "    \n",
    "    _transform = [\n",
    "        albu.Lambda(image=preprocessing_fn),\n",
    "        albu.Lambda(image=to_tensor),\n",
    "    ]\n",
    "    return albu.Compose(_transform)\n",
    "    \n",
    "test_dataset = Dataset(\n",
    "    x_test_dir, \n",
    "    augmentation=None, # for test, we just set augmentation to None\n",
    "    preprocessing=get_preprocessing(preprocessing_fn),\n",
    "    classes=CLASSES,\n",
    ")\n"
   ]
  },
  {
   "cell_type": "code",
   "execution_count": 10,
   "metadata": {
    "collapsed": true
   },
   "outputs": [],
   "source": [
    "#! /usr/bin/python\n",
    "# _*_ coding: utf-8 _*_\n",
    "__author__ = 'Jeffery'\n",
    "\n",
    "class Student(object):\n",
    "    \"\"\"\n",
    "    Student class\n",
    "    \"\"\"\n",
    "\n",
    "    # student_number是一个类属性, 可通过类访问，也可通过对象访问，所有对象共享该表量\n",
    "    student_number = 0\n",
    "\n",
    "    # 方法可有默认参数、可变参数、关键字参数和命名关键字参数\n",
    "    def __init__(self, sid, name, score):\n",
    "        \"\"\"\n",
    "        Student class init method\n",
    "        \"\"\"\n",
    "        Student.student_number += 1\n",
    "        self.__id = sid\n",
    "        self.name = name\n",
    "        self.score = score\n",
    "\n",
    "    def print_info(self):\n",
    "        \"\"\"\n",
    "        get Student info\n",
    "        \"\"\"\n",
    "        print('%s: %s' % (self.name, self.score), end=' ')"
   ]
  },
  {
   "cell_type": "code",
   "execution_count": 11,
   "metadata": {},
   "outputs": [
    {
     "name": "stdout",
     "output_type": "stream",
     "text": [
      "Bart Simpson: 59 1\n",
      "1\n"
     ]
    }
   ],
   "source": [
    "bart = Student('001', 'Bart Simpson', 59)\n",
    "bart.print_info()\n",
    "print(bart.student_number)  # 1\n",
    "print(Student.student_number)  # 1\n"
   ]
  },
  {
   "cell_type": "code",
   "execution_count": 12,
   "metadata": {
    "scrolled": true
   },
   "outputs": [
    {
     "name": "stdout",
     "output_type": "stream",
     "text": [
      "Lisa Simpson: 87 2\n",
      "2\n"
     ]
    }
   ],
   "source": [
    "\n",
    "lisa = Student('002', 'Lisa Simpson', 87)\n",
    "lisa.print_info()\n",
    "print(bart.student_number)  # 2\n",
    "print(Student.student_number)  # 2"
   ]
  },
  {
   "cell_type": "code",
   "execution_count": 23,
   "metadata": {
    "collapsed": true
   },
   "outputs": [],
   "source": [
    "class MasterStudent(Student):\n",
    "    \"\"\"\n",
    "    MasterStudent class\n",
    "    \"\"\"\n",
    "    def __init__(self, sid, name, score, major):\n",
    "        \"\"\"\n",
    "        Student class init method\n",
    "        \"\"\"\n",
    "        super().__init__(sid, name, score)\n",
    "        self.major = major\n",
    "\n",
    "    def print_info(self):\n",
    "        \"\"\"\n",
    "        get Student score\n",
    "        \"\"\"\n",
    "        super().print_info()  # 调用父类方法\n",
    "        print('and majoring in %s' % self.major)\n",
    "\n",
    "    def change_major(self, major):\n",
    "        \"\"\"\n",
    "        change major\n",
    "        \"\"\"\n",
    "        super().change_major()\n",
    "        self.major = major"
   ]
  },
  {
   "cell_type": "code",
   "execution_count": 24,
   "metadata": {
    "scrolled": true
   },
   "outputs": [
    {
     "name": "stdout",
     "output_type": "stream",
     "text": [
      "jeffery: 90 and majoring in bio\n"
     ]
    }
   ],
   "source": [
    "if __name__ == '__main__':\n",
    "    ms = MasterStudent('001', 'jeffery', '90', 'bio')\n",
    "    ms.print_info()"
   ]
  },
  {
   "cell_type": "code",
   "execution_count": 36,
   "metadata": {},
   "outputs": [
    {
     "name": "stdout",
     "output_type": "stream",
     "text": [
      "1\n",
      "1\n",
      "2\n",
      "3\n",
      "5\n",
      "8\n",
      "13\n"
     ]
    }
   ],
   "source": [
    "class Fibs(object):\n",
    "    def __init__(self, n=20):\n",
    "        self.a = 0\n",
    "        self.b = 1\n",
    "        self.n = n \n",
    "    def __iter__(self):\n",
    "        return self\n",
    "    def __next__(self):\n",
    "        self.a, self.b = self.b, self.a + self.b\n",
    "        if self.a > self.n:\n",
    "            raise StopIteration#处理异常\n",
    "        return self.a\n",
    "\n",
    "## 调用\n",
    "fibs = Fibs()\n",
    "for each in fibs:\n",
    "    print(each)\n",
    "## 输出"
   ]
  },
  {
   "cell_type": "code",
   "execution_count": 5,
   "metadata": {},
   "outputs": [
    {
     "ename": "NameError",
     "evalue": "name 'image' is not defined",
     "output_type": "error",
     "traceback": [
      "\u001b[1;31m---------------------------------------------------------------------------\u001b[0m",
      "\u001b[1;31mNameError\u001b[0m                                 Traceback (most recent call last)",
      "\u001b[1;32m<ipython-input-5-479a4ea39666>\u001b[0m in \u001b[0;36m<module>\u001b[1;34m()\u001b[0m\n\u001b[0;32m      1\u001b[0m \u001b[0moutput\u001b[0m\u001b[1;33m=\u001b[0m\u001b[0mnp\u001b[0m\u001b[1;33m.\u001b[0m\u001b[0mzeros\u001b[0m\u001b[1;33m(\u001b[0m\u001b[1;33m[\u001b[0m\u001b[1;36m1\u001b[0m\u001b[1;33m,\u001b[0m\u001b[1;36m320\u001b[0m\u001b[1;33m,\u001b[0m\u001b[1;36m320\u001b[0m\u001b[1;33m,\u001b[0m\u001b[1;36m3\u001b[0m\u001b[1;33m]\u001b[0m\u001b[1;33m,\u001b[0m\u001b[0mdtype\u001b[0m\u001b[1;33m=\u001b[0m\u001b[0mint\u001b[0m\u001b[1;33m)\u001b[0m\u001b[1;33m\u001b[0m\u001b[0m\n\u001b[1;32m----> 2\u001b[1;33m \u001b[0mterm\u001b[0m\u001b[1;33m=\u001b[0m\u001b[0mimage\u001b[0m\u001b[1;33m[\u001b[0m\u001b[0mnp\u001b[0m\u001b[1;33m.\u001b[0m\u001b[0mnewaxis\u001b[0m\u001b[1;33m,\u001b[0m\u001b[1;33m:\u001b[0m\u001b[1;33m,\u001b[0m\u001b[1;33m:\u001b[0m\u001b[1;33m,\u001b[0m\u001b[1;33m:\u001b[0m\u001b[1;33m]\u001b[0m\u001b[1;33m\u001b[0m\u001b[0m\n\u001b[0m\u001b[0;32m      3\u001b[0m \u001b[0moutput\u001b[0m\u001b[1;33m=\u001b[0m\u001b[0mnp\u001b[0m\u001b[1;33m.\u001b[0m\u001b[0mconcatenate\u001b[0m\u001b[1;33m(\u001b[0m\u001b[1;33m(\u001b[0m\u001b[0moutput\u001b[0m\u001b[1;33m,\u001b[0m\u001b[0mterm\u001b[0m\u001b[1;33m)\u001b[0m\u001b[1;33m,\u001b[0m\u001b[0maxis\u001b[0m \u001b[1;33m=\u001b[0m \u001b[1;36m0\u001b[0m\u001b[1;33m)\u001b[0m\u001b[1;33m\u001b[0m\u001b[0m\n",
      "\u001b[1;31mNameError\u001b[0m: name 'image' is not defined"
     ]
    }
   ],
   "source": [
    "output=np.zeros([1,320,320,3],dtype=int)\n",
    "term=image[np.newaxis,:,:,:]\n",
    "output=np.concatenate((output,term),axis = 0)"
   ]
  },
  {
   "cell_type": "code",
   "execution_count": 31,
   "metadata": {},
   "outputs": [
    {
     "data": {
      "text/plain": [
       "['Demo\\\\0001.png',\n",
       " 'Demo\\\\0002.png',\n",
       " 'Demo\\\\0003.png',\n",
       " 'Demo\\\\0004.png',\n",
       " 'Demo\\\\0005.png',\n",
       " 'Demo\\\\0006.png',\n",
       " 'Demo\\\\0007.png',\n",
       " 'Demo\\\\0008.png',\n",
       " 'Demo\\\\0009.png',\n",
       " 'Demo\\\\0010.png',\n",
       " 'Demo\\\\0011.png',\n",
       " 'Demo\\\\0012.png',\n",
       " 'Demo\\\\0013.png',\n",
       " 'Demo\\\\0014.png',\n",
       " 'Demo\\\\0015.png',\n",
       " 'Demo\\\\0016.png',\n",
       " 'Demo\\\\0017.png',\n",
       " 'Demo\\\\0018.png',\n",
       " 'Demo\\\\0019.png',\n",
       " 'Demo\\\\0020.png']"
      ]
     },
     "execution_count": 31,
     "metadata": {},
     "output_type": "execute_result"
    }
   ],
   "source": [
    "#将图片路径写成列表，为后面cv2读入方便\n",
    "images_dir = 'Demo' \n",
    "ids=sorted(os.listdir(images_dir))\n",
    "images_fps=[os.path.join(images_dir, image_id) for image_id in ids]\n"
   ]
  },
  {
   "cell_type": "code",
   "execution_count": 51,
   "metadata": {},
   "outputs": [
    {
     "data": {
      "text/plain": [
       "(320, 320, 3)"
      ]
     },
     "execution_count": 51,
     "metadata": {},
     "output_type": "execute_result"
    }
   ],
   "source": [
    "#cv2读入照片，实验用\n",
    "image1 = cv2.imread(images_fps[1],1)\n",
    "image1 = cv2.cvtColor(image1, cv2.COLOR_BGR2RGB)"
   ]
  },
  {
   "cell_type": "code",
   "execution_count": 54,
   "metadata": {},
   "outputs": [],
   "source": [
    "#批量处理，文件夹内20张照片读成np.array存入3维array‘image’，第一维代表第几张照片\n",
    "j=0\n",
    "image = np.zeros(shape=(20,320,320))\n",
    "for i in images_fps:\n",
    "    image1 = cv2.imread(i,1)\n",
    "    image1 = cv2.cvtColor(image1, cv2.COLOR_BGR2RGB)\n",
    "    image2=image1[:,:,1]\n",
    "    image2=image2-image2.min()\n",
    "    image2=image2/image2.max()\n",
    "    image2[0,:]=0\n",
    "    image2[image2.shape[0]-1,:]=0\n",
    "    image2[:,0]=0\n",
    "    image2[:,image2.shape[1]-1]=0\n",
    "    image2=np.reshape(image2,(320,320))\n",
    "    image[j,:,:]=image2\n",
    "    j=j+1\n"
   ]
  },
  {
   "cell_type": "code",
   "execution_count": 55,
   "metadata": {
    "collapsed": true
   },
   "outputs": [],
   "source": [
    "cv2.namedWindow(\"Image\",0)\n",
    "cv2.imshow('Image',image[0,:,:])\n",
    "cv2.waitKey()\n",
    "cv2.destroyAllWindows()"
   ]
  },
  {
   "cell_type": "code",
   "execution_count": 7,
   "metadata": {
    "collapsed": true
   },
   "outputs": [],
   "source": [
    "#cv2显式照片\n",
    "cv2.namedWindow(\"Image\",0)\n",
    "cv2.imshow('Image',image1)\n",
    "cv2.waitKey()\n",
    "cv2.destroyAllWindows()"
   ]
  },
  {
   "cell_type": "code",
   "execution_count": 8,
   "metadata": {
    "collapsed": true
   },
   "outputs": [],
   "source": [
    "#!/usr/bin/env python\n",
    "# -*- coding: utf-8 -*-\n",
    "# cython: language_level=3\n",
    "\"\"\"\n",
    "@Time    : 2020/4/28 11:13\n",
    "@Author  : Zhang Qi\n",
    "@Email   : zhangqi@onlinesign.com.cn\n",
    "@File    : mat.py\n",
    "@Title   : MAT算法\n",
    "@Description    :\n",
    "    MAT算法用于给定一个字的图片，通过MAT算法返回这个字对应的骨架图片\n",
    "\"\"\"\n",
    "import numpy as np\n",
    "from functools import reduce\n",
    "\n",
    "\n",
    "# =================================================================\n",
    "# MAT算法提取骨架\n",
    "# =================================================================\n",
    "\n",
    "\n",
    "def __mat_process_first(around_area: np.ndarray) -> bool:\n",
    "    \"\"\"MAT算法步骤1\n",
    "\n",
    "    对于相邻像素区域：\n",
    "    [\n",
    "        [p9,p2,p3],\n",
    "        [p8,p1,p4],\n",
    "        [p7,p6,p5]\n",
    "    ]\n",
    "    包括以下几个部分：\n",
    "    a. 2 <=非零像素个数 <= 6\n",
    "    b. 顺时针跳数 = 1\n",
    "    c. p2 * p4 * p6 = 0\n",
    "    d. p4 * p6 * p8 = 0\n",
    "\n",
    "    :param around_area: numpy.array, 一个像素的相邻像素，为3*3\n",
    "    :return: bool，是否满足以上所有条件\n",
    "    \"\"\"\n",
    "    result_list = list()    # 保存所有步骤是否符合条件\n",
    "    \"\"\"步骤a\"\"\"\n",
    "    near_one_count = __near_pix_equal_one_count(around_area)\n",
    "    result_list.append(2 <= near_one_count <= 6)\n",
    "    \"\"\"步骤b\"\"\"\n",
    "    result_list.append(__binary_transform_count(around_area) == 1)\n",
    "    \"\"\"步骤c\"\"\"\n",
    "    pix_2 = around_area[0][1]\n",
    "    pix_4 = around_area[1][2]\n",
    "    pix_6 = around_area[2][1]\n",
    "    result_list.append(pix_2 * pix_4 * pix_6 == 0)\n",
    "    \"\"\"步骤d\"\"\"\n",
    "    pix_8 = around_area[1][0]\n",
    "    result_list.append(pix_4 * pix_6 * pix_8 == 0)\n",
    "\n",
    "    return bool(reduce(lambda x, y: x and y, result_list))\n",
    "\n",
    "\n",
    "def __mat_process_second(around_area: np.ndarray) -> bool:\n",
    "    \"\"\"MAT算法步骤2\n",
    "    对于相邻像素区域：\n",
    "    [\n",
    "        [p9,p2,p3],\n",
    "        [p8,p1,p4],\n",
    "        [p7,p6,p5]\n",
    "    ]\n",
    "    包括以下几个部分：\n",
    "    a. 2 <=非零像素个数 <= 6\n",
    "    b. 顺时针跳数 = 1\n",
    "    c. p2 * p4 * p8 = 0\n",
    "    d. p2 * p6 * p8 = 0\n",
    "    :param around_area: numpy.array, 周围的区域\n",
    "    :return: bool,是否全部子条件\n",
    "    \"\"\"\n",
    "    result_list = list()    # 保存所有步骤是否符合条件\n",
    "    \"\"\"步骤a\"\"\"\n",
    "    near_one_count = __near_pix_equal_one_count(around_area)\n",
    "    result_list.append(2 <= near_one_count <= 6)\n",
    "    \"\"\"步骤b\"\"\"\n",
    "    result_list.append(__binary_transform_count(around_area) == 1)\n",
    "    \"\"\"步骤c\"\"\"\n",
    "    pix_2 = around_area[0][1]\n",
    "    pix_4 = around_area[1][2]\n",
    "    pix_8 = around_area[1][0]\n",
    "    pix_6 = around_area[2][1]\n",
    "    result_list.append(pix_2 * pix_4 * pix_8 == 0)\n",
    "    \"\"\"步骤d\"\"\"\n",
    "    result_list.append(pix_2 * pix_6 * pix_8 == 0)\n",
    "\n",
    "    return bool(reduce(lambda x, y: x and y, result_list))\n",
    "\n",
    "\n",
    "def __near_pix_equal_one_count(around_area: np.ndarray) -> int or np.int:\n",
    "    \"\"\"计算相邻像素中为1的个数(不包括中间点)\n",
    "\n",
    "    即，对于相邻像素区域：\n",
    "    [\n",
    "        [p9,p2,p3],\n",
    "        [p8,p1,p4],\n",
    "        [p7,p6,p5]\n",
    "    ]\n",
    "    统计出p1之外所有的1的个数\n",
    "    :param around_area: numpy.array, 一个像素的相邻像素，为3*3\n",
    "    :return int,像素为1的个数\n",
    "    \"\"\"\n",
    "    temp_around_area = np.copy(around_area)\n",
    "    temp_around_area[1][1] = 0\n",
    "    return int(np.sum(temp_around_area, dtype=np.int))\n",
    "\n",
    "\n",
    "def __binary_transform_count(around_area: np.ndarray) -> int or np.int:\n",
    "    \"\"\"给定一个3*3的二进制图片，获取其顺时针的跳数（从0到1）\n",
    "\n",
    "    即，对于相邻像素区域：\n",
    "    [\n",
    "        [p9,p2,p3],\n",
    "        [p8,p1,p4],\n",
    "        [p7,p6,p5]\n",
    "    ]\n",
    "    以p9,p2,p3,p4,p5,p6,p7,p8的顺序访问，如果是0到1，则为一跳\n",
    "    :param around_area: numpy.array, 一个像素的相邻像素，为3*3\n",
    "    :return int, 顺时针跳数\n",
    "    \"\"\"\n",
    "    def __next_index(current_coor: (int, int)) -> (int, int):\n",
    "        \"\"\"给定当前位置，返回下一个位置\n",
    "\n",
    "        :param current_coor: (int,int),当前位置\n",
    "        :return: (int,int), 下一个位置\n",
    "        \"\"\"\n",
    "        '''四个方向的下一个位置'''\n",
    "        right_next = (current_coor[0], current_coor[1] + 1)\n",
    "        down_next = (current_coor[0] + 1, current_coor[1])\n",
    "        left_next = (current_coor[0], current_coor[1] - 1)\n",
    "        up_next = (current_coor[0] - 1, current_coor[1])\n",
    "\n",
    "        \"\"\"按照指定的规则寻找，不报错则表示正确的方向\"\"\"\n",
    "        next_coordinate_list = [right_next, down_next, left_next, up_next]\n",
    "        for i, next_coordinate in enumerate(next_coordinate_list):\n",
    "            try:\n",
    "                around_area[next_coordinate]\n",
    "            except IndexError:\n",
    "                continue\n",
    "            else:\n",
    "                '''如果该点已经走过'''\n",
    "                if is_walked[next_coordinate[0], next_coordinate[1]]:\n",
    "                    continue\n",
    "                else:\n",
    "                    is_walked[next_coordinate[0], next_coordinate[1]] = True\n",
    "                    return next_coordinate\n",
    "\n",
    "    is_walked = np.full_like(around_area, False)  # 用于标识该点是否已经走过\n",
    "    is_walked[1][1] = True\n",
    "    transform_count = 0  # 用于记录跳数\n",
    "    \"\"\"循环对比\"\"\"\n",
    "    last_pix = around_area[0][0]  # 上一个的值\n",
    "    current_coordinate = (0, 1)\n",
    "    while current_coordinate != (0, 0):\n",
    "        current_pix = around_area[current_coordinate[0], current_coordinate[1]]\n",
    "        if last_pix == 0 and current_pix == 1:\n",
    "            transform_count += 1\n",
    "\n",
    "        last_pix = current_pix\n",
    "        current_coordinate = __next_index(current_coordinate)\n",
    "\n",
    "    '''当循环到第一个点时再对比一次'''\n",
    "    current_pix = around_area[current_coordinate[0], current_coordinate[0]]\n",
    "    if last_pix == 0 and current_pix == 1:\n",
    "        transform_count += 1\n",
    "\n",
    "    return transform_count\n",
    "\n",
    "\n",
    "def __remove_pix_by_coordination(img: np.ndarray, points: list):\n",
    "    \"\"\"给定坐标的list，删除图像上的点（实际就是标记为0）\n",
    "\n",
    "    :param img: numpy.array,图像\n",
    "    :param points: List[(int,int)]\n",
    "    \"\"\"\n",
    "    for single_coordination in points:\n",
    "        i_row, i_col = single_coordination\n",
    "        img[i_row][i_col] = 0\n",
    "\n",
    "\n",
    "def __get_remove_points(img: np.ndarray, func) -> [(int, int)]:\n",
    "    \"\"\"给定图像以及，删除点的规则，返回要删除的点\n",
    "\n",
    "    :param img: numpy.array, 原图像\n",
    "    :param func: function, 规则，也就是一个函数\n",
    "    :return: List[（int,int）],坐标的list\n",
    "    \"\"\"\n",
    "    remove_points_list = list()\n",
    "    temp_img = img\n",
    "    img_iter = np.nditer(temp_img, flags=[\"multi_index\"])\n",
    "    while not img_iter.finished:\n",
    "        current_pix = img_iter[0]\n",
    "        i_row, i_col = img_iter.multi_index\n",
    "        img_iter.iternext()\n",
    "        '''如果是背景点则直接跳过'''\n",
    "        if current_pix != 1:\n",
    "            continue\n",
    "\n",
    "        \"\"\"如果是前景点\"\"\"\n",
    "        around_area = temp_img[i_row - 1:i_row + 2, i_col - 1:i_col + 2]\n",
    "        if func(around_area):\n",
    "            remove_points_list.append((i_row, i_col))\n",
    "\n",
    "        img_iter.iternext()\n",
    "    return remove_points_list\n",
    "\n",
    "\n",
    "def get_img_skeleton_by_mat(img: np.ndarray) -> np.ndarray:\n",
    "    \"\"\"根据字体的图像得到字的骨架\n",
    "\n",
    "    :param img, numpy.array, 原图片\n",
    "    :raise ValueError\n",
    "        - 图片不为单通道\n",
    "        - 图片并未归一化\n",
    "        - 图片并未标准化\n",
    "    :return: numpy.array, 骨架图\n",
    "    \"\"\"\n",
    "    '''检验图片是否是单通道'''\n",
    "    if len(img.shape) != 2:\n",
    "        raise ValueError(\"该图片不是单通道\")\n",
    "    \"\"\"检验标准化\"\"\"\n",
    "    if img.max() > 1:\n",
    "        raise ValueError(\"该图片并未标准化\")\n",
    "    \"\"\"检验二值化\"\"\"\n",
    "    if (np.unique(img.flatten()) != (0, 1)).all():\n",
    "        raise ValueError(\"该函数并未二值化\")\n",
    "\n",
    "    temp_img = img.copy()\n",
    "    \"\"\"遍历每一个像素点\"\"\"\n",
    "    is_remove_flag = True  # 表示是否继续删除的标志\n",
    "    i_round = 1  # 记录迭代的轮数\n",
    "    while is_remove_flag:\n",
    "        is_remove_flag = False\n",
    "        print(\"正在执行MAT算法的第{}轮\".format(i_round))\n",
    "        \"\"\"执行步骤1\"\"\"\n",
    "        remove_points = __get_remove_points(temp_img, __mat_process_first)\n",
    "        if len(remove_points) != 0:\n",
    "            is_remove_flag = True\n",
    "            __remove_pix_by_coordination(temp_img, remove_points)\n",
    "\n",
    "        \"\"\"执行步骤2\"\"\"\n",
    "        remove_points = __get_remove_points(temp_img, __mat_process_second)\n",
    "        if len(remove_points) != 0:\n",
    "            is_remove_flag = True\n",
    "            __remove_pix_by_coordination(temp_img, remove_points)\n",
    "\n",
    "        i_round += 1\n",
    "\n",
    "    return temp_img\n"
   ]
  },
  {
   "cell_type": "code",
   "execution_count": 26,
   "metadata": {},
   "outputs": [
    {
     "name": "stdout",
     "output_type": "stream",
     "text": [
      "1.0\n",
      "....\n",
      "0.0\n"
     ]
    }
   ],
   "source": [
    "#cv2读入照片\n",
    "#实验用，不需运行\n",
    "image = cv2.imread(images_fps[15],1)\n",
    "image = cv2.cvtColor(image1, cv2.COLOR_BGR2RGB)\n",
    "#处理成get_img_skeleton_by_mat函数可接受格式\n",
    "image4=image1[:,:,1]\n",
    "image4=image4-image4.min()\n",
    "image4=image4/image4.max()\n",
    "image4[0,:]=0\n",
    "image4[image4.shape[0]-1,:]=0\n",
    "image4[:,0]=0\n",
    "image4[:,image4.shape[1]-1]=0\n",
    "image5=np.reshape(image4,(320,320))\n",
    "print(image4.max())\n",
    "print('....')\n",
    "print(image4.min())"
   ]
  },
  {
   "cell_type": "code",
   "execution_count": 21,
   "metadata": {},
   "outputs": [
    {
     "data": {
      "text/plain": [
       "(320, 320)"
      ]
     },
     "execution_count": 21,
     "metadata": {},
     "output_type": "execute_result"
    }
   ],
   "source": [
    "image4.shape"
   ]
  },
  {
   "cell_type": "code",
   "execution_count": 60,
   "metadata": {},
   "outputs": [
    {
     "name": "stdout",
     "output_type": "stream",
     "text": [
      "正在执行MAT算法的第1轮\n",
      "正在执行MAT算法的第2轮\n",
      "正在执行MAT算法的第3轮\n",
      "正在执行MAT算法的第4轮\n",
      "正在执行MAT算法的第5轮\n",
      "正在执行MAT算法的第6轮\n",
      "正在执行MAT算法的第1轮\n",
      "正在执行MAT算法的第2轮\n",
      "正在执行MAT算法的第3轮\n",
      "正在执行MAT算法的第4轮\n",
      "正在执行MAT算法的第5轮\n",
      "正在执行MAT算法的第1轮\n",
      "正在执行MAT算法的第2轮\n",
      "正在执行MAT算法的第3轮\n",
      "正在执行MAT算法的第4轮\n",
      "正在执行MAT算法的第5轮\n",
      "正在执行MAT算法的第6轮\n",
      "正在执行MAT算法的第1轮\n",
      "正在执行MAT算法的第2轮\n",
      "正在执行MAT算法的第3轮\n",
      "正在执行MAT算法的第4轮\n",
      "正在执行MAT算法的第5轮\n",
      "正在执行MAT算法的第1轮\n",
      "正在执行MAT算法的第2轮\n",
      "正在执行MAT算法的第3轮\n",
      "正在执行MAT算法的第4轮\n",
      "正在执行MAT算法的第5轮\n",
      "正在执行MAT算法的第1轮\n",
      "正在执行MAT算法的第2轮\n",
      "正在执行MAT算法的第3轮\n",
      "正在执行MAT算法的第4轮\n",
      "正在执行MAT算法的第5轮\n",
      "正在执行MAT算法的第6轮\n",
      "正在执行MAT算法的第7轮\n",
      "正在执行MAT算法的第8轮\n",
      "正在执行MAT算法的第9轮\n",
      "正在执行MAT算法的第10轮\n",
      "正在执行MAT算法的第11轮\n",
      "正在执行MAT算法的第12轮\n",
      "正在执行MAT算法的第13轮\n",
      "正在执行MAT算法的第14轮\n",
      "正在执行MAT算法的第15轮\n",
      "正在执行MAT算法的第16轮\n",
      "正在执行MAT算法的第17轮\n",
      "正在执行MAT算法的第18轮\n",
      "正在执行MAT算法的第19轮\n",
      "正在执行MAT算法的第20轮\n",
      "正在执行MAT算法的第1轮\n",
      "正在执行MAT算法的第2轮\n",
      "正在执行MAT算法的第3轮\n",
      "正在执行MAT算法的第4轮\n",
      "正在执行MAT算法的第5轮\n",
      "正在执行MAT算法的第6轮\n",
      "正在执行MAT算法的第7轮\n",
      "正在执行MAT算法的第8轮\n",
      "正在执行MAT算法的第9轮\n",
      "正在执行MAT算法的第10轮\n",
      "正在执行MAT算法的第11轮\n",
      "正在执行MAT算法的第12轮\n",
      "正在执行MAT算法的第13轮\n",
      "正在执行MAT算法的第1轮\n",
      "正在执行MAT算法的第2轮\n",
      "正在执行MAT算法的第3轮\n",
      "正在执行MAT算法的第4轮\n",
      "正在执行MAT算法的第5轮\n",
      "正在执行MAT算法的第6轮\n",
      "正在执行MAT算法的第7轮\n",
      "正在执行MAT算法的第8轮\n",
      "正在执行MAT算法的第9轮\n",
      "正在执行MAT算法的第10轮\n",
      "正在执行MAT算法的第11轮\n",
      "正在执行MAT算法的第12轮\n",
      "正在执行MAT算法的第13轮\n",
      "正在执行MAT算法的第14轮\n",
      "正在执行MAT算法的第15轮\n",
      "正在执行MAT算法的第16轮\n",
      "正在执行MAT算法的第1轮\n",
      "正在执行MAT算法的第2轮\n",
      "正在执行MAT算法的第3轮\n",
      "正在执行MAT算法的第4轮\n",
      "正在执行MAT算法的第5轮\n",
      "正在执行MAT算法的第6轮\n",
      "正在执行MAT算法的第7轮\n",
      "正在执行MAT算法的第8轮\n",
      "正在执行MAT算法的第9轮\n",
      "正在执行MAT算法的第10轮\n",
      "正在执行MAT算法的第11轮\n",
      "正在执行MAT算法的第12轮\n",
      "正在执行MAT算法的第13轮\n",
      "正在执行MAT算法的第14轮\n",
      "正在执行MAT算法的第15轮\n",
      "正在执行MAT算法的第16轮\n",
      "正在执行MAT算法的第17轮\n",
      "正在执行MAT算法的第1轮\n",
      "正在执行MAT算法的第2轮\n",
      "正在执行MAT算法的第3轮\n",
      "正在执行MAT算法的第4轮\n",
      "正在执行MAT算法的第5轮\n",
      "正在执行MAT算法的第6轮\n",
      "正在执行MAT算法的第7轮\n",
      "正在执行MAT算法的第8轮\n",
      "正在执行MAT算法的第9轮\n",
      "正在执行MAT算法的第10轮\n",
      "正在执行MAT算法的第11轮\n",
      "正在执行MAT算法的第12轮\n",
      "正在执行MAT算法的第13轮\n",
      "正在执行MAT算法的第14轮\n",
      "正在执行MAT算法的第15轮\n",
      "正在执行MAT算法的第16轮\n",
      "正在执行MAT算法的第17轮\n",
      "正在执行MAT算法的第18轮\n",
      "正在执行MAT算法的第1轮\n",
      "正在执行MAT算法的第2轮\n",
      "正在执行MAT算法的第3轮\n",
      "正在执行MAT算法的第4轮\n",
      "正在执行MAT算法的第5轮\n",
      "正在执行MAT算法的第6轮\n",
      "正在执行MAT算法的第7轮\n",
      "正在执行MAT算法的第8轮\n",
      "正在执行MAT算法的第9轮\n",
      "正在执行MAT算法的第1轮\n",
      "正在执行MAT算法的第2轮\n",
      "正在执行MAT算法的第3轮\n",
      "正在执行MAT算法的第4轮\n",
      "正在执行MAT算法的第5轮\n",
      "正在执行MAT算法的第6轮\n",
      "正在执行MAT算法的第7轮\n",
      "正在执行MAT算法的第8轮\n",
      "正在执行MAT算法的第9轮\n",
      "正在执行MAT算法的第1轮\n",
      "正在执行MAT算法的第2轮\n",
      "正在执行MAT算法的第3轮\n",
      "正在执行MAT算法的第4轮\n",
      "正在执行MAT算法的第5轮\n",
      "正在执行MAT算法的第1轮\n",
      "正在执行MAT算法的第2轮\n",
      "正在执行MAT算法的第3轮\n",
      "正在执行MAT算法的第4轮\n",
      "正在执行MAT算法的第5轮\n",
      "正在执行MAT算法的第1轮\n",
      "正在执行MAT算法的第2轮\n",
      "正在执行MAT算法的第3轮\n",
      "正在执行MAT算法的第4轮\n",
      "正在执行MAT算法的第5轮\n",
      "正在执行MAT算法的第6轮\n",
      "正在执行MAT算法的第7轮\n",
      "正在执行MAT算法的第8轮\n",
      "正在执行MAT算法的第9轮\n",
      "正在执行MAT算法的第10轮\n",
      "正在执行MAT算法的第11轮\n",
      "正在执行MAT算法的第12轮\n",
      "正在执行MAT算法的第13轮\n",
      "正在执行MAT算法的第14轮\n",
      "正在执行MAT算法的第15轮\n",
      "正在执行MAT算法的第16轮\n",
      "正在执行MAT算法的第17轮\n",
      "正在执行MAT算法的第18轮\n",
      "正在执行MAT算法的第1轮\n",
      "正在执行MAT算法的第2轮\n",
      "正在执行MAT算法的第3轮\n",
      "正在执行MAT算法的第4轮\n",
      "正在执行MAT算法的第5轮\n",
      "正在执行MAT算法的第6轮\n",
      "正在执行MAT算法的第7轮\n",
      "正在执行MAT算法的第8轮\n",
      "正在执行MAT算法的第9轮\n",
      "正在执行MAT算法的第10轮\n",
      "正在执行MAT算法的第11轮\n",
      "正在执行MAT算法的第12轮\n",
      "正在执行MAT算法的第13轮\n",
      "正在执行MAT算法的第14轮\n",
      "正在执行MAT算法的第15轮\n",
      "正在执行MAT算法的第16轮\n",
      "正在执行MAT算法的第17轮\n",
      "正在执行MAT算法的第18轮\n",
      "正在执行MAT算法的第19轮\n",
      "正在执行MAT算法的第20轮\n",
      "正在执行MAT算法的第21轮\n",
      "正在执行MAT算法的第22轮\n",
      "正在执行MAT算法的第23轮\n",
      "正在执行MAT算法的第24轮\n",
      "正在执行MAT算法的第25轮\n",
      "正在执行MAT算法的第26轮\n",
      "正在执行MAT算法的第27轮\n",
      "正在执行MAT算法的第28轮\n",
      "正在执行MAT算法的第29轮\n",
      "正在执行MAT算法的第30轮\n",
      "正在执行MAT算法的第31轮\n",
      "正在执行MAT算法的第32轮\n",
      "正在执行MAT算法的第1轮\n",
      "正在执行MAT算法的第2轮\n",
      "正在执行MAT算法的第3轮\n",
      "正在执行MAT算法的第4轮\n",
      "正在执行MAT算法的第5轮\n",
      "正在执行MAT算法的第6轮\n",
      "正在执行MAT算法的第7轮\n",
      "正在执行MAT算法的第8轮\n",
      "正在执行MAT算法的第9轮\n",
      "正在执行MAT算法的第10轮\n",
      "正在执行MAT算法的第11轮\n",
      "正在执行MAT算法的第12轮\n",
      "正在执行MAT算法的第13轮\n",
      "正在执行MAT算法的第14轮\n",
      "正在执行MAT算法的第15轮\n",
      "正在执行MAT算法的第1轮\n",
      "正在执行MAT算法的第2轮\n",
      "正在执行MAT算法的第3轮\n",
      "正在执行MAT算法的第4轮\n",
      "正在执行MAT算法的第5轮\n",
      "正在执行MAT算法的第6轮\n",
      "正在执行MAT算法的第7轮\n",
      "正在执行MAT算法的第8轮\n",
      "正在执行MAT算法的第9轮\n",
      "正在执行MAT算法的第10轮\n",
      "正在执行MAT算法的第11轮\n",
      "正在执行MAT算法的第12轮\n",
      "正在执行MAT算法的第13轮\n",
      "正在执行MAT算法的第14轮\n",
      "正在执行MAT算法的第1轮\n",
      "正在执行MAT算法的第2轮\n",
      "正在执行MAT算法的第3轮\n",
      "正在执行MAT算法的第4轮\n",
      "正在执行MAT算法的第5轮\n",
      "正在执行MAT算法的第6轮\n",
      "正在执行MAT算法的第7轮\n",
      "正在执行MAT算法的第8轮\n",
      "正在执行MAT算法的第9轮\n",
      "正在执行MAT算法的第10轮\n",
      "正在执行MAT算法的第11轮\n",
      "正在执行MAT算法的第12轮\n",
      "正在执行MAT算法的第13轮\n",
      "正在执行MAT算法的第14轮\n",
      "正在执行MAT算法的第15轮\n",
      "正在执行MAT算法的第16轮\n",
      "正在执行MAT算法的第17轮\n",
      "正在执行MAT算法的第18轮\n",
      "正在执行MAT算法的第19轮\n"
     ]
    }
   ],
   "source": [
    "skeleton_img = np.zeros(shape=(20,320,320))\n",
    "for i in range (0,19):\n",
    "    skeleton_img[i,:,:] = get_img_skeleton_by_mat(image[i,:,:])"
   ]
  },
  {
   "cell_type": "code",
   "execution_count": 67,
   "metadata": {
    "collapsed": true
   },
   "outputs": [],
   "source": [
    "skeleton_img=skeleton_img*255"
   ]
  },
  {
   "cell_type": "code",
   "execution_count": 68,
   "metadata": {},
   "outputs": [],
   "source": [
    "import matplotlib\n",
    "for n in range (0,19):\n",
    "    #matplotlib.image.imsave(\"liefeng/%04.d.png\"%(n+1),skeleton_img[n,:,:])\n",
    "    cv2.imwrite(\"liefeng/%04.d.png\"%(n+1),skeleton_img[n,:,:])"
   ]
  },
  {
   "cell_type": "code",
   "execution_count": 27,
   "metadata": {
    "collapsed": true
   },
   "outputs": [],
   "source": [
    "cv2.namedWindow(\"Image\",0)\n",
    "cv2.imshow('Image',image4)\n",
    "cv2.waitKey()\n",
    "cv2.destroyAllWindows()"
   ]
  },
  {
   "cell_type": "code",
   "execution_count": 26,
   "metadata": {
    "collapsed": true,
    "scrolled": true
   },
   "outputs": [],
   "source": [
    "test_transform = [\n",
    "     albu.Resize(500,500)\n",
    "    ]\n",
    "image3=albu.Compose(test_transform)(image=image1)['image']"
   ]
  },
  {
   "cell_type": "code",
   "execution_count": 27,
   "metadata": {},
   "outputs": [
    {
     "data": {
      "image/png": "[encoded data removed]",
      "text/plain": [
       "<Figure size 144x144 with 1 Axes>"
      ]
     },
     "metadata": {},
     "output_type": "display_data"
    },
    {
     "data": {
      "image/png": "[encoded data removed]",
      "text/plain": [
       "<Figure size 144x144 with 1 Axes>"
      ]
     },
     "metadata": {},
     "output_type": "display_data"
    }
   ],
   "source": [
    "#plt显式照片\n",
    "plt.figure(figsize=(2, 2))\n",
    "plt.imshow(image3)\n",
    "plt.show()\n",
    "plt.figure(figsize=(2, 2))\n",
    "plt.imshow(image1)\n",
    "plt.show()"
   ]
  },
  {
   "cell_type": "code",
   "execution_count": 103,
   "metadata": {
    "collapsed": true
   },
   "outputs": [],
   "source": []
  },
  {
   "cell_type": "code",
   "execution_count": 89,
   "metadata": {
    "collapsed": true
   },
   "outputs": [],
   "source": [
    "image5=cv2.imread('gutou.tif',1)\n",
    "image5 = cv2.cvtColor(image5, cv2.COLOR_BGR2RGB)\n",
    "image5=image5[:,:,0]\n",
    "image5=image5/image5.max()"
   ]
  },
  {
   "cell_type": "code",
   "execution_count": 71,
   "metadata": {},
   "outputs": [
    {
     "data": {
      "text/plain": [
       "(750, 450)"
      ]
     },
     "execution_count": 71,
     "metadata": {},
     "output_type": "execute_result"
    }
   ],
   "source": [
    "image5.shape"
   ]
  },
  {
   "cell_type": "code",
   "execution_count": 83,
   "metadata": {},
   "outputs": [
    {
     "data": {
      "text/plain": [
       "array([  0,   1,   2,   3,   4,   5,   6,   7,   8,   9,  10,  11,  12,\n",
       "        13,  14,  15,  16,  17,  18,  19,  20,  21,  22,  23,  24,  25,\n",
       "        26,  27,  28,  29,  30,  31,  32,  33,  34, 420, 421, 422, 423,\n",
       "       424, 425, 426, 427, 428, 429, 430, 431, 432, 433, 434, 435, 436,\n",
       "       437, 438, 439, 440, 441, 442, 443, 444, 445, 446, 447, 448, 449],\n",
       "      dtype=int64)"
      ]
     },
     "execution_count": 83,
     "metadata": {},
     "output_type": "execute_result"
    }
   ],
   "source": [
    "flag_image5=np.sum(image5,axis=0)\n",
    "image5_zero=np.where(flag_image5 == 0)[0]\n",
    "image5_zero"
   ]
  },
  {
   "cell_type": "code",
   "execution_count": 90,
   "metadata": {
    "collapsed": true
   },
   "outputs": [],
   "source": [
    "image5=image5[0:750,33:421]"
   ]
  },
  {
   "cell_type": "code",
   "execution_count": 56,
   "metadata": {
    "collapsed": true
   },
   "outputs": [],
   "source": [
    "cv2.namedWindow(\"Image\",0)\n",
    "cv2.imshow('Image',image5)\n",
    "cv2.waitKey()\n",
    "cv2.destroyAllWindows()"
   ]
  },
  {
   "cell_type": "code",
   "execution_count": null,
   "metadata": {},
   "outputs": [
    {
     "name": "stdout",
     "output_type": "stream",
     "text": [
      "正在执行MAT算法的第1轮\n",
      "正在执行MAT算法的第2轮\n",
      "正在执行MAT算法的第3轮\n",
      "正在执行MAT算法的第4轮\n",
      "正在执行MAT算法的第5轮\n",
      "正在执行MAT算法的第6轮\n",
      "正在执行MAT算法的第7轮\n",
      "正在执行MAT算法的第8轮\n",
      "正在执行MAT算法的第9轮\n",
      "正在执行MAT算法的第10轮\n",
      "正在执行MAT算法的第11轮\n",
      "正在执行MAT算法的第12轮\n",
      "正在执行MAT算法的第13轮\n",
      "正在执行MAT算法的第14轮\n",
      "正在执行MAT算法的第20轮\n",
      "正在执行MAT算法的第21轮\n",
      "正在执行MAT算法的第22轮\n",
      "正在执行MAT算法的第23轮\n",
      "正在执行MAT算法的第24轮\n",
      "正在执行MAT算法的第25轮\n",
      "正在执行MAT算法的第26轮\n",
      "正在执行MAT算法的第27轮\n",
      "正在执行MAT算法的第28轮\n",
      "正在执行MAT算法的第29轮\n",
      "正在执行MAT算法的第30轮\n",
      "正在执行MAT算法的第31轮\n",
      "正在执行MAT算法的第32轮\n",
      "正在执行MAT算法的第33轮\n",
      "正在执行MAT算法的第34轮\n",
      "正在执行MAT算法的第35轮\n",
      "正在执行MAT算法的第36轮\n",
      "正在执行MAT算法的第37轮\n",
      "正在执行MAT算法的第38轮\n",
      "正在执行MAT算法的第39轮\n",
      "正在执行MAT算法的第40轮\n",
      "正在执行MAT算法的第41轮\n",
      "正在执行MAT算法的第42轮\n",
      "正在执行MAT算法的第43轮\n",
      "正在执行MAT算法的第44轮\n",
      "正在执行MAT算法的第45轮\n",
      "正在执行MAT算法的第46轮\n",
      "正在执行MAT算法的第47轮\n",
      "正在执行MAT算法的第48轮\n",
      "正在执行MAT算法的第49轮\n",
      "正在执行MAT算法的第50轮\n",
      "正在执行MAT算法的第51轮\n",
      "正在执行MAT算法的第52轮\n",
      "正在执行MAT算法的第53轮\n",
      "正在执行MAT算法的第54轮\n",
      "正在执行MAT算法的第55轮\n",
      "正在执行MAT算法的第56轮\n",
      "正在执行MAT算法的第57轮\n",
      "正在执行MAT算法的第58轮\n"
     ]
    }
   ],
   "source": [
    "skeleton_img = get_img_skeleton_by_mat(image5)#图片边界不能有对象，必须是黑的"
   ]
  },
  {
   "cell_type": "code",
   "execution_count": 30,
   "metadata": {
    "collapsed": true
   },
   "outputs": [],
   "source": [
    "cv2.namedWindow(\"Image\",0)\n",
    "cv2.imshow('Image',skeleton_img)\n",
    "cv2.waitKey()\n",
    "cv2.destroyAllWindows()"
   ]
  }
 ],
 "metadata": {
  "kernelspec": {
   "display_name": "Python [conda env:pytorch2]",
   "language": "python",
   "name": "conda-env-pytorch2-py"
  },
  "language_info": {
   "codemirror_mode": {
    "name": "ipython",
    "version": 3
   },
   "file_extension": ".py",
   "mimetype": "text/x-python",
   "name": "python",
   "nbconvert_exporter": "python",
   "pygments_lexer": "ipython3",
   "version": "3.6.2"
  }
 },
 "nbformat": 4,
 "nbformat_minor": 2
}
